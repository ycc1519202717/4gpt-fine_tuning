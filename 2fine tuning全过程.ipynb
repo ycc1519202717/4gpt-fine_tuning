{
 "cells": [
  {
   "cell_type": "code",
   "execution_count": 3,
   "id": "94c5ee79",
   "metadata": {},
   "outputs": [],
   "source": [
    "import openai\n",
    "import pandas as pd\n",
    "import os"
   ]
  },
  {
   "cell_type": "code",
   "execution_count": 4,
   "id": "89d3a757",
   "metadata": {},
   "outputs": [],
   "source": [
    "apikey_path = 'apikey.txt'#读取同文件夹目录的文件\n",
    "with open(apikey_path, 'r') as f:\n",
    "    key = f.read()\n",
    "\n",
    "#连接chatgpt\n",
    "openai.organization = \"org-tCd0A0x7hh3O9EpDr9OiV0Or\" #它用于标识具有访问权限的 OpenAI 组织，大部分情况不需要\n",
    "openai.api_key = key#api访问接口"
   ]
  },
  {
   "cell_type": "markdown",
   "id": "5bd38e7e",
   "metadata": {},
   "source": [
    "1 加载数据 csv->dataframe"
   ]
  },
  {
   "cell_type": "code",
   "execution_count": 4,
   "id": "f09a2087",
   "metadata": {},
   "outputs": [],
   "source": [
    "# 加载同文件下的csv文件\n",
    "df = pd.read_csv('data.csv')\n",
    "\n",
    "# 将第一列命名为prompt，第二列命名为completion\n",
    "df.columns = ['prompt', 'completion']"
   ]
  },
  {
   "cell_type": "code",
   "execution_count": 5,
   "id": "0480b707",
   "metadata": {},
   "outputs": [
    {
     "data": {
      "text/html": [
       "<div>\n",
       "<style scoped>\n",
       "    .dataframe tbody tr th:only-of-type {\n",
       "        vertical-align: middle;\n",
       "    }\n",
       "\n",
       "    .dataframe tbody tr th {\n",
       "        vertical-align: top;\n",
       "    }\n",
       "\n",
       "    .dataframe thead th {\n",
       "        text-align: right;\n",
       "    }\n",
       "</style>\n",
       "<table border=\"1\" class=\"dataframe\">\n",
       "  <thead>\n",
       "    <tr style=\"text-align: right;\">\n",
       "      <th></th>\n",
       "      <th>prompt</th>\n",
       "      <th>completion</th>\n",
       "    </tr>\n",
       "  </thead>\n",
       "  <tbody>\n",
       "    <tr>\n",
       "      <th>0</th>\n",
       "      <td>I really enjoyed the movie</td>\n",
       "      <td>positive</td>\n",
       "    </tr>\n",
       "    <tr>\n",
       "      <th>1</th>\n",
       "      <td>The food was terrible</td>\n",
       "      <td>negative</td>\n",
       "    </tr>\n",
       "    <tr>\n",
       "      <th>2</th>\n",
       "      <td>I'm not sure how I feel about this</td>\n",
       "      <td>neutral</td>\n",
       "    </tr>\n",
       "    <tr>\n",
       "      <th>3</th>\n",
       "      <td>The service was excellent</td>\n",
       "      <td>positive</td>\n",
       "    </tr>\n",
       "    <tr>\n",
       "      <th>4</th>\n",
       "      <td>I had a bad experience</td>\n",
       "      <td>negative</td>\n",
       "    </tr>\n",
       "    <tr>\n",
       "      <th>...</th>\n",
       "      <td>...</td>\n",
       "      <td>...</td>\n",
       "    </tr>\n",
       "    <tr>\n",
       "      <th>579</th>\n",
       "      <td>I have to cancel my vacation plans because I c...</td>\n",
       "      <td>negative</td>\n",
       "    </tr>\n",
       "    <tr>\n",
       "      <th>580</th>\n",
       "      <td>My computer crashed and I lost all my importan...</td>\n",
       "      <td>negative</td>\n",
       "    </tr>\n",
       "    <tr>\n",
       "      <th>581</th>\n",
       "      <td>I got into a car accident and my car is totale...</td>\n",
       "      <td>negative</td>\n",
       "    </tr>\n",
       "    <tr>\n",
       "      <th>582</th>\n",
       "      <td>I have a cold and can't stop coughing. it's re...</td>\n",
       "      <td>negative</td>\n",
       "    </tr>\n",
       "    <tr>\n",
       "      <th>583</th>\n",
       "      <td>I just found out my ex is dating someone new. ...</td>\n",
       "      <td>negative</td>\n",
       "    </tr>\n",
       "  </tbody>\n",
       "</table>\n",
       "<p>584 rows × 2 columns</p>\n",
       "</div>"
      ],
      "text/plain": [
       "                                                prompt completion\n",
       "0                           I really enjoyed the movie   positive\n",
       "1                                The food was terrible   negative\n",
       "2                   I'm not sure how I feel about this    neutral\n",
       "3                            The service was excellent   positive\n",
       "4                               I had a bad experience   negative\n",
       "..                                                 ...        ...\n",
       "579  I have to cancel my vacation plans because I c...   negative\n",
       "580  My computer crashed and I lost all my importan...   negative\n",
       "581  I got into a car accident and my car is totale...   negative\n",
       "582  I have a cold and can't stop coughing. it's re...   negative\n",
       "583  I just found out my ex is dating someone new. ...   negative\n",
       "\n",
       "[584 rows x 2 columns]"
      ]
     },
     "execution_count": 5,
     "metadata": {},
     "output_type": "execute_result"
    }
   ],
   "source": [
    "df"
   ]
  },
  {
   "cell_type": "markdown",
   "id": "9be112f8",
   "metadata": {},
   "source": [
    "2 格式转换 dataframe->jsonl"
   ]
  },
  {
   "cell_type": "code",
   "execution_count": 6,
   "id": "500c2387",
   "metadata": {},
   "outputs": [],
   "source": [
    "'''\n",
    "目的是数据格式转换\n",
    "dataframe->jsonl\n",
    "文件保存在本地\n",
    "'''\n",
    "df.to_json(\n",
    "    \"data.jsonl\", #存放地址和名称\n",
    "    orient='records', #每个记录作为一行\n",
    "    lines=True#每一行都是一个{a,b}的格式\n",
    "    )"
   ]
  },
  {
   "cell_type": "markdown",
   "id": "2f385e42",
   "metadata": {},
   "source": [
    "3 数据质量优化"
   ]
  },
  {
   "cell_type": "code",
   "execution_count": 7,
   "id": "b2110a74",
   "metadata": {},
   "outputs": [
    {
     "name": "stdout",
     "output_type": "stream",
     "text": [
      "Analyzing...\n",
      "\n",
      "- Your file contains 584 prompt-completion pairs\n",
      "- Based on your data it seems like you're trying to fine-tune a model for classification\n",
      "- For classification, we recommend you try one of the faster and cheaper models, such as `ada`\n",
      "- For classification, you can estimate the expected model performance by keeping a held out dataset, which is not used for training\n",
      "- There are 38 duplicated prompt-completion sets. These are rows: [153, 159, 164, 166, 172, 173, 175, 176, 177, 178, 179, 180, 181, 182, 187, 193, 196, 203, 205, 215, 223, 228, 230, 247, 251, 253, 254, 256, 257, 261, 262, 268, 270, 276, 277, 289, 302, 306]\n",
      "- Your data does not contain a common separator at the end of your prompts. Having a separator string appended to the end of the prompt makes it clearer to the fine-tuned model where the completion should begin. See https://platform.openai.com/docs/guides/fine-tuning/preparing-your-dataset for more detail and examples. If you intend to do open-ended generation, then you should leave the prompts empty\n",
      "- The completion should start with a whitespace character (` `). This tends to produce better results due to the tokenization we use. See https://platform.openai.com/docs/guides/fine-tuning/preparing-your-dataset for more details\n",
      "\n",
      "Based on the analysis we will perform the following actions:\n",
      "- [Recommended] Remove 38 duplicate rows [Y/n]: Y\n",
      "- [Recommended] Add a suffix separator ` ->` to all prompts [Y/n]: Y\n",
      "- [Recommended] Add a whitespace character to the beginning of the completion [Y/n]: Y\n",
      "- [Recommended] Would you like to split into training and validation set? [Y/n]: Y\n",
      "\n",
      "\n",
      "Your data will be written to a new JSONL file. Proceed [Y/n]: Y\n",
      "\n",
      "Wrote modified files to `data_prepared_train (1).jsonl` and `data_prepared_valid (1).jsonl`\n",
      "Feel free to take a look!\n",
      "\n",
      "Now use that file when fine-tuning:\n",
      "> openai api fine_tunes.create -t \"data_prepared_train (1).jsonl\" -v \"data_prepared_valid (1).jsonl\" --compute_classification_metrics --classification_n_classes 3\n",
      "\n",
      "After you’ve fine-tuned a model, remember that your prompt has to end with the indicator string ` ->` for the model to start generating completions, rather than continuing with the prompt.\n",
      "Once your model starts training, it'll approximately take 15.44 minutes to train a `curie` model, and less for `ada` and `babbage`. Queue will approximately take half an hour per job ahead of you.\n"
     ]
    },
    {
     "name": "stderr",
     "output_type": "stream",
     "text": [
      "D:\\anaconda3\\lib\\site-packages\\openai\\validators.py:222: SettingWithCopyWarning: \n",
      "A value is trying to be set on a copy of a slice from a DataFrame.\n",
      "Try using .loc[row_indexer,col_indexer] = value instead\n",
      "\n",
      "See the caveats in the documentation: https://pandas.pydata.org/pandas-docs/stable/user_guide/indexing.html#returning-a-view-versus-a-copy\n",
      "  x[\"prompt\"] += suffix\n",
      "D:\\anaconda3\\lib\\site-packages\\openai\\validators.py:421: SettingWithCopyWarning: \n",
      "A value is trying to be set on a copy of a slice from a DataFrame.\n",
      "Try using .loc[row_indexer,col_indexer] = value instead\n",
      "\n",
      "See the caveats in the documentation: https://pandas.pydata.org/pandas-docs/stable/user_guide/indexing.html#returning-a-view-versus-a-copy\n",
      "  x[\"completion\"] = x[\"completion\"].apply(\n"
     ]
    }
   ],
   "source": [
    "'''\n",
    "使用数据准备工具\n",
    "目的是提高输入数据质量。智能增加提示符。并且将数据划分为训练集和测试集。\n",
    "jsonl->jsonl\n",
    "文件保存在本地\n",
    "!openai tools fine_tunes.prepare_data -f 文件名.jsonl -q\n",
    "-q代表接受所有建议和调整\n",
    "'''\n",
    "\n",
    "!openai tools fine_tunes.prepare_data -f data.jsonl -q"
   ]
  },
  {
   "cell_type": "code",
   "execution_count": 8,
   "id": "e11579c8",
   "metadata": {},
   "outputs": [
    {
     "data": {
      "text/plain": [
       "'\\n翻译以上文本内容：\\n\\n[建议]删除38个重复行 [Y/n]：Y\\n[建议]将后缀分隔符->添加到所有提示中 [Y/n]：Y\\n[建议]在完成的开头添加一个空格字符 [Y/n]：Y\\n[建议]您是否想要分成训练集和验证集？ [Y/n]：Y\\n\\n建议运行这行代码来开启fine tuning，需要自己添加指定模型\\nopenai api fine_tunes.create -t \"data_prepared_train.jsonl\" -v \"data_prepared_valid.jsonl\" --compute_classification_metrics --classification_n_classes 3\\n\\n实际使用时候，prompt必须以->结尾来提示模型开始工作\\n'"
      ]
     },
     "execution_count": 8,
     "metadata": {},
     "output_type": "execute_result"
    }
   ],
   "source": [
    "'''\n",
    "翻译以上文本内容：\n",
    "\n",
    "[建议]删除38个重复行 [Y/n]：Y\n",
    "[建议]将后缀分隔符->添加到所有提示中 [Y/n]：Y\n",
    "[建议]在完成的开头添加一个空格字符 [Y/n]：Y\n",
    "[建议]您是否想要分成训练集和验证集？ [Y/n]：Y\n",
    "\n",
    "建议运行这行代码来开启fine tuning，需要自己添加指定模型\n",
    "openai api fine_tunes.create -t \"data_prepared_train.jsonl\" -v \"data_prepared_valid.jsonl\" --compute_classification_metrics --classification_n_classes 3\n",
    "\n",
    "实际使用时候，prompt必须以->结尾来提示模型开始工作\n",
    "'''"
   ]
  },
  {
   "cell_type": "markdown",
   "id": "b90e97af",
   "metadata": {},
   "source": [
    "4 开始fine tuning"
   ]
  },
  {
   "cell_type": "code",
   "execution_count": 7,
   "id": "fe422ca4",
   "metadata": {},
   "outputs": [],
   "source": [
    "os.environ[\"OPENAI_API_KEY\"] = key\n",
    "'''\n",
    "key是一个str数据类型\n",
    "将你的key设置到环境变量中\n",
    "如果不这样做，fine tuning将报错说没有提供key\n",
    "'''"
   ]
  },
  {
   "cell_type": "code",
   "execution_count": 8,
   "id": "4441fed1",
   "metadata": {},
   "outputs": [
    {
     "name": "stdout",
     "output_type": "stream",
     "text": [
      "Uploaded file from data_prepared_train.jsonl: file-F64kjWk9WI88Dp3hUpHjLThj\n",
      "Uploaded file from data_prepared_valid.jsonl: file-AmUSj6jo8WdbfcKCP4ZVIBbl\n",
      "Created fine-tune: ft-A8yZ7i95eWDdm6rmsiXGtFJ0\n",
      "Streaming events until fine-tuning is complete...\n",
      "\n",
      "(Ctrl-C will interrupt the stream, but not cancel the fine-tune)\n",
      "[2023-04-28 13:13:24] Created fine-tune: ft-A8yZ7i95eWDdm6rmsiXGtFJ0\n",
      "[2023-04-28 13:13:34] Fine-tune costs $0.01\n",
      "[2023-04-28 13:13:35] Fine-tune enqueued. Queue number: 0\n",
      "[2023-04-28 13:13:37] Fine-tune started\n",
      "\n"
     ]
    },
    {
     "name": "stderr",
     "output_type": "stream",
     "text": [
      "\n",
      "Upload progress:   0%|          | 0.00/35.1k [00:00<?, ?it/s]\n",
      "Upload progress: 100%|██████████| 35.1k/35.1k [00:00<?, ?it/s]\n",
      "\n",
      "Upload progress:   0%|          | 0.00/9.20k [00:00<?, ?it/s]\n",
      "Upload progress: 100%|██████████| 9.20k/9.20k [00:00<?, ?it/s]\n"
     ]
    }
   ],
   "source": [
    "#模型训练\n",
    "'''\n",
    "!openai api fine_tunes.create\n",
    "-t\"本地训练数据集地址\" \n",
    "-v\"本地验证数据集地址\"\n",
    "--compute_classification_metrics           (非必须的参数。用于告诉微调进程计算与分类任务相关的度量标准，如准确率、精确度和召回率等。\n",
    "--classification_n_classes 3               (非必须的参数。在多分类问题中，指定分类任务的类别总数量。\n",
    "--classification_positive_class \"类别名1\"  (非必须的参数。在二分类问题中，指定正类别。\n",
    "-m ada 指定模型，不需要加双引号\n",
    "--suffix\"命名模型名称\"\n",
    "'''\n",
    "\n",
    "\n",
    "!openai api fine_tunes.create -t \"data_prepared_train.jsonl\" -v \"data_prepared_valid.jsonl\" --compute_classification_metrics --classification_n_classes 3 -m ada\n"
   ]
  },
  {
   "cell_type": "markdown",
   "id": "d0c69667",
   "metadata": {},
   "source": [
    "5 查看结果"
   ]
  },
  {
   "cell_type": "code",
   "execution_count": 10,
   "id": "7f898c71",
   "metadata": {},
   "outputs": [],
   "source": [
    "ft=\"ft-A8yZ7i95eWDdm6rmsiXGtFJ0\""
   ]
  },
  {
   "cell_type": "code",
   "execution_count": 12,
   "id": "6b5b849b",
   "metadata": {},
   "outputs": [
    {
     "name": "stdout",
     "output_type": "stream",
     "text": [
      "[2023-04-28 13:13:24] Created fine-tune: ft-A8yZ7i95eWDdm6rmsiXGtFJ0\n",
      "[2023-04-28 13:13:34] Fine-tune costs $0.01\n",
      "[2023-04-28 13:13:35] Fine-tune enqueued. Queue number: 0\n",
      "[2023-04-28 13:13:37] Fine-tune started\n",
      "[2023-04-28 13:14:58] Completed epoch 1/4\n",
      "[2023-04-28 13:16:09] Completed epoch 2/4\n",
      "[2023-04-28 13:17:17] Completed epoch 3/4\n",
      "[2023-04-28 13:18:25] Completed epoch 4/4\n",
      "[2023-04-28 13:18:51] Uploaded model: ada:ft-personal-2023-04-28-05-18-51\n",
      "[2023-04-28 13:18:52] Uploaded result file: file-vLYHmpeK6id6SEPkGDTuhEqT\n",
      "[2023-04-28 13:18:52] Fine-tune succeeded\n"
     ]
    },
    {
     "name": "stderr",
     "output_type": "stream",
     "text": [
      "Traceback (most recent call last):\n",
      "  File \"D:\\anaconda3\\lib\\runpy.py\", line 196, in _run_module_as_main\n",
      "    return _run_code(code, main_globals, None,\n",
      "  File \"D:\\anaconda3\\lib\\runpy.py\", line 86, in _run_code\n",
      "    exec(code, run_globals)\n",
      "  File \"D:\\anaconda3\\Scripts\\openai.exe\\__main__.py\", line 7, in <module>\n",
      "  File \"D:\\anaconda3\\lib\\site-packages\\openai\\_openai_scripts.py\", line 70, in main\n",
      "    args.func(args)\n",
      "  File \"D:\\anaconda3\\lib\\site-packages\\openai\\cli.py\", line 516, in follow\n",
      "    cls._stream_events(args.id)\n",
      "  File \"D:\\anaconda3\\lib\\site-packages\\openai\\cli.py\", line 559, in _stream_events\n",
      "    sys.stdout.write(\"\\nJob complete! Status: succeeded \\U0001f389\")\n",
      "UnicodeEncodeError: 'gbk' codec can't encode character '\\U0001f389' in position 34: illegal multibyte sequence\n"
     ]
    }
   ],
   "source": [
    "!openai api fine_tunes.follow -i $ft"
   ]
  },
  {
   "cell_type": "markdown",
   "id": "c41e0fe8",
   "metadata": {},
   "source": [
    "6 测试模型"
   ]
  },
  {
   "cell_type": "code",
   "execution_count": 27,
   "id": "e59582ed",
   "metadata": {},
   "outputs": [],
   "source": [
    "#包装成一个方法\n",
    "def generate_text(prompt):\n",
    "    response = openai.Completion.create(\n",
    "        engine='ada:ft-personal-2023-04-28-05-18-51',\n",
    "        prompt=prompt,\n",
    "        max_tokens=1,#机器人回复长度\n",
    "        temperature=0.5,\n",
    "        n=1,\n",
    "        stop=None,\n",
    "    )\n",
    "    message = response.choices[0].text\n",
    "    return message"
   ]
  },
  {
   "cell_type": "code",
   "execution_count": 28,
   "id": "8f0a2f01",
   "metadata": {},
   "outputs": [
    {
     "name": "stdout",
     "output_type": "stream",
     "text": [
      "You: 我很开心\n",
      "Chatbot:  positive\n",
      "You: 我很难过\n",
      "Chatbot:  negative\n",
      "You: bye\n"
     ]
    }
   ],
   "source": [
    "#实现连续请求\n",
    "while True:\n",
    "    prompt = input(\"You: \")+\"->\"   #输入对话，默认这里加入命令符\n",
    "    if prompt.lower() == \"bye->\":#如果输入bye就结束对话\n",
    "        break\n",
    "    response = generate_text(prompt)\n",
    "    print(\"Chatbot:\", response)"
   ]
  },
  {
   "cell_type": "markdown",
   "id": "97b50f86",
   "metadata": {},
   "source": [
    "7 查看训练过程参数"
   ]
  },
  {
   "cell_type": "code",
   "execution_count": 29,
   "id": "258707b4",
   "metadata": {},
   "outputs": [],
   "source": [
    "#因为刚刚这行代码--compute_classification_metrics 告诉要计算相应的指标\n",
    "#下载这个指标\n",
    "!openai api fine_tunes.results -i ft-A8yZ7i95eWDdm6rmsiXGtFJ0 > result.csv"
   ]
  },
  {
   "cell_type": "code",
   "execution_count": 32,
   "id": "8e6a0533",
   "metadata": {},
   "outputs": [
    {
     "data": {
      "text/html": [
       "<div>\n",
       "<style scoped>\n",
       "    .dataframe tbody tr th:only-of-type {\n",
       "        vertical-align: middle;\n",
       "    }\n",
       "\n",
       "    .dataframe tbody tr th {\n",
       "        vertical-align: top;\n",
       "    }\n",
       "\n",
       "    .dataframe thead th {\n",
       "        text-align: right;\n",
       "    }\n",
       "</style>\n",
       "<table border=\"1\" class=\"dataframe\">\n",
       "  <thead>\n",
       "    <tr style=\"text-align: right;\">\n",
       "      <th></th>\n",
       "      <th>step</th>\n",
       "      <th>elapsed_tokens</th>\n",
       "      <th>elapsed_examples</th>\n",
       "      <th>training_loss</th>\n",
       "      <th>training_sequence_accuracy</th>\n",
       "      <th>training_token_accuracy</th>\n",
       "      <th>validation_loss</th>\n",
       "      <th>validation_sequence_accuracy</th>\n",
       "      <th>validation_token_accuracy</th>\n",
       "      <th>classification/accuracy</th>\n",
       "      <th>classification/weighted_f1_score</th>\n",
       "    </tr>\n",
       "  </thead>\n",
       "  <tbody>\n",
       "    <tr>\n",
       "      <th>0</th>\n",
       "      <td>1</td>\n",
       "      <td>25</td>\n",
       "      <td>1</td>\n",
       "      <td>0.554468</td>\n",
       "      <td>0.0</td>\n",
       "      <td>0.0</td>\n",
       "      <td>0.356435</td>\n",
       "      <td>0.0</td>\n",
       "      <td>0.0</td>\n",
       "      <td>NaN</td>\n",
       "      <td>NaN</td>\n",
       "    </tr>\n",
       "    <tr>\n",
       "      <th>1</th>\n",
       "      <td>2</td>\n",
       "      <td>34</td>\n",
       "      <td>2</td>\n",
       "      <td>1.149400</td>\n",
       "      <td>0.0</td>\n",
       "      <td>0.0</td>\n",
       "      <td>NaN</td>\n",
       "      <td>NaN</td>\n",
       "      <td>NaN</td>\n",
       "      <td>NaN</td>\n",
       "      <td>NaN</td>\n",
       "    </tr>\n",
       "    <tr>\n",
       "      <th>2</th>\n",
       "      <td>3</td>\n",
       "      <td>43</td>\n",
       "      <td>3</td>\n",
       "      <td>1.122204</td>\n",
       "      <td>0.0</td>\n",
       "      <td>0.0</td>\n",
       "      <td>NaN</td>\n",
       "      <td>NaN</td>\n",
       "      <td>NaN</td>\n",
       "      <td>NaN</td>\n",
       "      <td>NaN</td>\n",
       "    </tr>\n",
       "    <tr>\n",
       "      <th>3</th>\n",
       "      <td>4</td>\n",
       "      <td>52</td>\n",
       "      <td>4</td>\n",
       "      <td>1.228593</td>\n",
       "      <td>0.0</td>\n",
       "      <td>0.0</td>\n",
       "      <td>NaN</td>\n",
       "      <td>NaN</td>\n",
       "      <td>NaN</td>\n",
       "      <td>NaN</td>\n",
       "      <td>NaN</td>\n",
       "    </tr>\n",
       "    <tr>\n",
       "      <th>4</th>\n",
       "      <td>5</td>\n",
       "      <td>69</td>\n",
       "      <td>5</td>\n",
       "      <td>0.341322</td>\n",
       "      <td>0.0</td>\n",
       "      <td>0.0</td>\n",
       "      <td>NaN</td>\n",
       "      <td>NaN</td>\n",
       "      <td>NaN</td>\n",
       "      <td>NaN</td>\n",
       "      <td>NaN</td>\n",
       "    </tr>\n",
       "    <tr>\n",
       "      <th>...</th>\n",
       "      <td>...</td>\n",
       "      <td>...</td>\n",
       "      <td>...</td>\n",
       "      <td>...</td>\n",
       "      <td>...</td>\n",
       "      <td>...</td>\n",
       "      <td>...</td>\n",
       "      <td>...</td>\n",
       "      <td>...</td>\n",
       "      <td>...</td>\n",
       "      <td>...</td>\n",
       "    </tr>\n",
       "    <tr>\n",
       "      <th>1741</th>\n",
       "      <td>1742</td>\n",
       "      <td>25206</td>\n",
       "      <td>1742</td>\n",
       "      <td>0.008853</td>\n",
       "      <td>1.0</td>\n",
       "      <td>1.0</td>\n",
       "      <td>NaN</td>\n",
       "      <td>NaN</td>\n",
       "      <td>NaN</td>\n",
       "      <td>NaN</td>\n",
       "      <td>NaN</td>\n",
       "    </tr>\n",
       "    <tr>\n",
       "      <th>1742</th>\n",
       "      <td>1743</td>\n",
       "      <td>25215</td>\n",
       "      <td>1743</td>\n",
       "      <td>0.008690</td>\n",
       "      <td>1.0</td>\n",
       "      <td>1.0</td>\n",
       "      <td>NaN</td>\n",
       "      <td>NaN</td>\n",
       "      <td>NaN</td>\n",
       "      <td>NaN</td>\n",
       "      <td>NaN</td>\n",
       "    </tr>\n",
       "    <tr>\n",
       "      <th>1743</th>\n",
       "      <td>1744</td>\n",
       "      <td>25232</td>\n",
       "      <td>1744</td>\n",
       "      <td>0.003998</td>\n",
       "      <td>1.0</td>\n",
       "      <td>1.0</td>\n",
       "      <td>NaN</td>\n",
       "      <td>NaN</td>\n",
       "      <td>NaN</td>\n",
       "      <td>NaN</td>\n",
       "      <td>NaN</td>\n",
       "    </tr>\n",
       "    <tr>\n",
       "      <th>1744</th>\n",
       "      <td>1745</td>\n",
       "      <td>25241</td>\n",
       "      <td>1745</td>\n",
       "      <td>0.006900</td>\n",
       "      <td>1.0</td>\n",
       "      <td>1.0</td>\n",
       "      <td>0.010964</td>\n",
       "      <td>1.0</td>\n",
       "      <td>1.0</td>\n",
       "      <td>NaN</td>\n",
       "      <td>NaN</td>\n",
       "    </tr>\n",
       "    <tr>\n",
       "      <th>1745</th>\n",
       "      <td>1746</td>\n",
       "      <td>25266</td>\n",
       "      <td>1746</td>\n",
       "      <td>0.008089</td>\n",
       "      <td>1.0</td>\n",
       "      <td>1.0</td>\n",
       "      <td>NaN</td>\n",
       "      <td>NaN</td>\n",
       "      <td>NaN</td>\n",
       "      <td>0.990909</td>\n",
       "      <td>0.990941</td>\n",
       "    </tr>\n",
       "  </tbody>\n",
       "</table>\n",
       "<p>1746 rows × 11 columns</p>\n",
       "</div>"
      ],
      "text/plain": [
       "      step  elapsed_tokens  elapsed_examples  training_loss  \\\n",
       "0        1              25                 1       0.554468   \n",
       "1        2              34                 2       1.149400   \n",
       "2        3              43                 3       1.122204   \n",
       "3        4              52                 4       1.228593   \n",
       "4        5              69                 5       0.341322   \n",
       "...    ...             ...               ...            ...   \n",
       "1741  1742           25206              1742       0.008853   \n",
       "1742  1743           25215              1743       0.008690   \n",
       "1743  1744           25232              1744       0.003998   \n",
       "1744  1745           25241              1745       0.006900   \n",
       "1745  1746           25266              1746       0.008089   \n",
       "\n",
       "      training_sequence_accuracy  training_token_accuracy  validation_loss  \\\n",
       "0                            0.0                      0.0         0.356435   \n",
       "1                            0.0                      0.0              NaN   \n",
       "2                            0.0                      0.0              NaN   \n",
       "3                            0.0                      0.0              NaN   \n",
       "4                            0.0                      0.0              NaN   \n",
       "...                          ...                      ...              ...   \n",
       "1741                         1.0                      1.0              NaN   \n",
       "1742                         1.0                      1.0              NaN   \n",
       "1743                         1.0                      1.0              NaN   \n",
       "1744                         1.0                      1.0         0.010964   \n",
       "1745                         1.0                      1.0              NaN   \n",
       "\n",
       "      validation_sequence_accuracy  validation_token_accuracy  \\\n",
       "0                              0.0                        0.0   \n",
       "1                              NaN                        NaN   \n",
       "2                              NaN                        NaN   \n",
       "3                              NaN                        NaN   \n",
       "4                              NaN                        NaN   \n",
       "...                            ...                        ...   \n",
       "1741                           NaN                        NaN   \n",
       "1742                           NaN                        NaN   \n",
       "1743                           NaN                        NaN   \n",
       "1744                           1.0                        1.0   \n",
       "1745                           NaN                        NaN   \n",
       "\n",
       "      classification/accuracy  classification/weighted_f1_score  \n",
       "0                         NaN                               NaN  \n",
       "1                         NaN                               NaN  \n",
       "2                         NaN                               NaN  \n",
       "3                         NaN                               NaN  \n",
       "4                         NaN                               NaN  \n",
       "...                       ...                               ...  \n",
       "1741                      NaN                               NaN  \n",
       "1742                      NaN                               NaN  \n",
       "1743                      NaN                               NaN  \n",
       "1744                      NaN                               NaN  \n",
       "1745                 0.990909                          0.990941  \n",
       "\n",
       "[1746 rows x 11 columns]"
      ]
     },
     "execution_count": 32,
     "metadata": {},
     "output_type": "execute_result"
    }
   ],
   "source": [
    "#查看结果\n",
    "results = pd.read_csv('result.csv')\n",
    "results"
   ]
  }
 ],
 "metadata": {
  "kernelspec": {
   "display_name": "Python 3 (ipykernel)",
   "language": "python",
   "name": "python3"
  },
  "language_info": {
   "codemirror_mode": {
    "name": "ipython",
    "version": 3
   },
   "file_extension": ".py",
   "mimetype": "text/x-python",
   "name": "python",
   "nbconvert_exporter": "python",
   "pygments_lexer": "ipython3",
   "version": "3.10.9"
  }
 },
 "nbformat": 4,
 "nbformat_minor": 5
}
