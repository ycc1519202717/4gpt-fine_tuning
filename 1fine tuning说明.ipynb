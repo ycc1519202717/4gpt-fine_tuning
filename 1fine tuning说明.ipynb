{
 "cells": [
  {
   "cell_type": "markdown",
   "id": "9500bd18",
   "metadata": {},
   "source": [
    "数据准备"
   ]
  },
  {
   "cell_type": "code",
   "execution_count": null,
   "id": "7fed60e7",
   "metadata": {},
   "outputs": [],
   "source": [
    "#数据结构要求：jsonl数据结构\n",
    "'''\n",
    "{\"prompt\": \"burger -->\", \"completion\": \" edible\"}\n",
    "{\"prompt\": \"paper towels -->\", \"completion\": \" inedible\"}\n",
    "{\"prompt\": \"vino -->\", \"completion\": \" edible\"}\n",
    "{\"prompt\": \"bananas -->\", \"completion\": \" edible\"}\n",
    "{\"prompt\": \"dog toy -->\", \"completion\": \" inedible\"}\n",
    "\n",
    "'''"
   ]
  },
  {
   "cell_type": "code",
   "execution_count": null,
   "id": "a1ea8b71",
   "metadata": {},
   "outputs": [],
   "source": [
    "#数据数量要求：\n",
    "\n",
    "'''\n",
    "1分类任务至少要100条数据。生成任务至少要500条数据。\n",
    "2数据越多越好，性价比最高在1000条数据。此时准确性从100条的60%，来到1000条的80%。\n",
    "3数据在一百万条的时候接近90%\n",
    "'''"
   ]
  },
  {
   "cell_type": "code",
   "execution_count": null,
   "id": "d6ba6925",
   "metadata": {},
   "outputs": [],
   "source": [
    "#数据质量要求：\n",
    "\n",
    "'''\n",
    "{\"prompt\": \"burger -->\", \"completion\": \" edible END\"}\n",
    "'''\n",
    "\n",
    "\n",
    "'''\n",
    "要求：\n",
    "1所有数据统一格式。\n",
    "\n",
    "2prompt+completion小于2048个token。\n",
    "\n",
    "3数据中的输入，必须满足推导出答案所需的所有信息。\n",
    "\n",
    "4数据中的输出，就是我们实际应用中希望看到的答案。\n",
    "\n",
    "5存在提示符\n",
    "格式满足：内容+信号\n",
    "如：burger -->，burger ###，burger >>>，burger Label:，\n",
    "这样做的原理是提示模型看到信号直接输出答案。\n",
    "否则模型可能不会输出判断，而去输出文本。如输入：burger，输出：burger and fries。\n",
    "当然你的信号不要出现在你的文本中，特别是代码会存在各种各样的符号。这会出现混淆。\n",
    "\n",
    "6标签的设置：\n",
    "最好使用一个单词，如1，yes，ok等。\n",
    "但如果需要回答的是具体内容，建议对内容做分类。如下：\n",
    "1（代表文本任务）输出的文本\n",
    "2（代表代码任务）输出的代码\n",
    "先使用一个单词为输出的内容做分类，再进行具体的回答。\n",
    "\n",
    "'''"
   ]
  },
  {
   "cell_type": "code",
   "execution_count": null,
   "id": "ff96a018",
   "metadata": {},
   "outputs": [],
   "source": [
    "#案例\n",
    "\n",
    "'''\n",
    "情绪分析数据（二分类）\n",
    "{\"prompt\": \"看到新手机真开心 -->\", \"completion\": \" 积极\"}\n",
    "{\"prompt\": \"ig又失败了 -->\", \"completion\": \" 消极\"}\n",
    "\n",
    "新闻分类数据（多分类）\n",
    "{\"prompt\": \"PC World -即将推出的芯片组将为您的PC内置安全功能。-->\", \"completion\": \" 4（4=科技）\"}\n",
    "{\"prompt\": \"另一方面又为奥运会顺利举行感到欣慰。-->\", \"completion\": \" 2（2=体育）\"}\n",
    "\n",
    "'''"
   ]
  },
  {
   "cell_type": "markdown",
   "id": "a081332a",
   "metadata": {},
   "source": [
    "如何选择训练模型"
   ]
  },
  {
   "cell_type": "code",
   "execution_count": null,
   "id": "79785a12",
   "metadata": {},
   "outputs": [],
   "source": [
    "#可供fine-tuning的模型\n",
    "'''\n",
    "ada\n",
    "训练价格0.0004/1k token\n",
    "使用价格0.0016/1k token\n",
    "\n",
    "babbage\n",
    "1.3b\n",
    "训练价格0.0006/1k token\n",
    "使用价格0.0024/1k token\n",
    "\n",
    "curie\n",
    "6b\n",
    "训练价格0.0030/1k token\n",
    "使用价格0.0120/1k token\n",
    "\n",
    "davinci\n",
    "175b\n",
    "训练价格0.0300/1k token\n",
    "使用价格0.1200/1k token\n",
    "\n",
    "text-davinci-002（暂不开放）\n",
    "'''"
   ]
  },
  {
   "cell_type": "code",
   "execution_count": null,
   "id": "ecf37ad9",
   "metadata": {},
   "outputs": [],
   "source": [
    "#选择标准\n",
    "'''\n",
    "分类（简单任务）：ada\n",
    "需要先验知识，推理，代码任务（复杂任务）：davinci\n",
    "'''"
   ]
  },
  {
   "cell_type": "code",
   "execution_count": null,
   "id": "931c1faa",
   "metadata": {},
   "outputs": [],
   "source": [
    "#流程\n",
    "'''\n",
    "方法一：\n",
    "1先使用小数据集跑所有模型，对比效果。\n",
    "2然后选择效果最好的。\n",
    "\n",
    "3如果是复杂任务，先用小数据集跑。\n",
    "4再用fine tuning模型生成更多的标签，从而转换成简单任务。\n",
    "5使用便宜的ada跑分类。\n",
    "'''"
   ]
  },
  {
   "cell_type": "markdown",
   "id": "e86f6651",
   "metadata": {},
   "source": [
    "针对不同问题的数据元素"
   ]
  },
  {
   "cell_type": "code",
   "execution_count": null,
   "id": "1ef10768",
   "metadata": {},
   "outputs": [],
   "source": [
    "'''\n",
    "写广告：输入信息，输出广告\n",
    "\n",
    "prompt\n",
    "产品名\n",
    "产品信息\n",
    "->\n",
    "\n",
    "completion\n",
    "广告内容\n",
    "end\n",
    "'''"
   ]
  },
  {
   "cell_type": "code",
   "execution_count": null,
   "id": "46a2fc60",
   "metadata": {},
   "outputs": [],
   "source": [
    "'''\n",
    "总结：输入text，输出总结\n",
    "\n",
    "prompt\n",
    "文章\n",
    "->\n",
    "\n",
    "completion\n",
    "总结\n",
    "end\n",
    "'''"
   ]
  },
  {
   "cell_type": "code",
   "execution_count": null,
   "id": "90b8deb2",
   "metadata": {},
   "outputs": [],
   "source": []
  },
  {
   "cell_type": "markdown",
   "id": "5b12836d",
   "metadata": {},
   "source": [
    "如何选择超参数"
   ]
  },
  {
   "cell_type": "code",
   "execution_count": null,
   "id": "563e1d15",
   "metadata": {},
   "outputs": [],
   "source": [
    "'''\n",
    "n_epochs：训练次数。默认=4。推荐4-10。训练越多，loss越低。\n",
    "batch_size：批量大小。默认=动态调整。推荐0.01%-2%。\n",
    "learning_rate_multiplier：学习率。默认=动态调整。推荐0.02-0.5。\n",
    "prompt_loss_weight：默认=0.1。10％的损失函数用于优化模型是归因于提示文本，而其他90％是归因于生成的完成文本。\n",
    "100％，则模型从提示文本和生成文本的标记中学习的程度相同。\n",
    "0%，则模型的学习完全集中在生成的完成文本上。\n",
    "少量的提示学习有助于保护或增强模型理解输入的能力。\n",
    "'''"
   ]
  },
  {
   "cell_type": "markdown",
   "id": "96e752d2",
   "metadata": {},
   "source": [
    "如何选择推理参数"
   ]
  },
  {
   "cell_type": "code",
   "execution_count": null,
   "id": "7421776e",
   "metadata": {},
   "outputs": [],
   "source": [
    "'''\n",
    "temperature：0。越低随机性越低。高的数值对于创造性任务是好事。低的数值对于分类任务是好事。\n",
    "max_tokens：生成的文本长度上限。\n",
    "stop：预先在数据集的答案末尾加入END。训练时加入参数stop= ' END '。这样的模型生成的时候如果模型自己生成了END，就会停止输出。\n",
    "否则可能会在已经达到效果的回答后继续输出其他的内容。\n",
    "logit_bias：\n",
    "logprobs：logprobs=5将为完成的每个标记位置返回前5个最可能的标记。\n",
    "echo：\n",
    "'''"
   ]
  },
  {
   "cell_type": "markdown",
   "id": "9fb62990",
   "metadata": {},
   "source": [
    "实际使用中的注意事项"
   ]
  },
  {
   "cell_type": "code",
   "execution_count": null,
   "id": "2d29a41a",
   "metadata": {},
   "outputs": [],
   "source": [
    "'''\n",
    "1输入的信息，必须包含推理出正确答案的所有信息。\n",
    "\n",
    "2输入的信息，格式需要与训练数据相同。\n",
    "\n",
    "'''"
   ]
  },
  {
   "cell_type": "code",
   "execution_count": null,
   "id": "a92f3f54",
   "metadata": {},
   "outputs": [],
   "source": []
  },
  {
   "cell_type": "code",
   "execution_count": null,
   "id": "a065de68",
   "metadata": {},
   "outputs": [],
   "source": []
  },
  {
   "cell_type": "code",
   "execution_count": null,
   "id": "a801f8c2",
   "metadata": {},
   "outputs": [],
   "source": [
    "'''\n",
    "-t 训练数据集地址\n",
    "-v 验证数据集地址\n",
    "-m 训练模型\n",
    "'''"
   ]
  }
 ],
 "metadata": {
  "kernelspec": {
   "display_name": "Python 3 (ipykernel)",
   "language": "python",
   "name": "python3"
  },
  "language_info": {
   "codemirror_mode": {
    "name": "ipython",
    "version": 3
   },
   "file_extension": ".py",
   "mimetype": "text/x-python",
   "name": "python",
   "nbconvert_exporter": "python",
   "pygments_lexer": "ipython3",
   "version": "3.10.9"
  }
 },
 "nbformat": 4,
 "nbformat_minor": 5
}
